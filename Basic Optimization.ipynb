{
 "cells": [
  {
   "cell_type": "markdown",
   "id": "f59e5d34",
   "metadata": {},
   "source": [
    "# Minimize y(x) = 2x**2+20x-22"
   ]
  },
  {
   "cell_type": "markdown",
   "id": "a30e802b",
   "metadata": {},
   "source": [
    "We use Python to iterate through all values of y(x) using While Loop. Inside While Loop we campare y(i) and y(i+1). If y(i+1) is larger than y(i) we have found the minimum."
   ]
  },
  {
   "cell_type": "markdown",
   "id": "cfcc192f",
   "metadata": {},
   "source": [
    "# \"Simple\" Solution"
   ]
  },
  {
   "cell_type": "markdown",
   "id": "5d837e0f",
   "metadata": {},
   "source": [
    "https://www.youtube.com/watch?v=HWNOV8u8-58"
   ]
  },
  {
   "cell_type": "code",
   "execution_count": 13,
   "id": "8841f94d",
   "metadata": {},
   "outputs": [],
   "source": [
    "import numpy as np\n",
    "import matplotlib.pyplot as plt\n",
    "from scipy.optimize import minimize"
   ]
  },
  {
   "cell_type": "code",
   "execution_count": 14,
   "id": "9054463f",
   "metadata": {},
   "outputs": [],
   "source": [
    "xstart=-20\n",
    "xstop=20\n",
    "increment=0.1\n",
    "x=np.arange(xstart, xstop, increment)\n",
    "y=2*x*x+20*x-22"
   ]
  },
  {
   "cell_type": "code",
   "execution_count": 9,
   "id": "d917e7d5",
   "metadata": {},
   "outputs": [
    {
     "data": {
      "image/png": "[encoded data removed]",
      "text/plain": [
       "<Figure size 432x288 with 1 Axes>"
      ]
     },
     "metadata": {
      "needs_background": "light"
     },
     "output_type": "display_data"
    }
   ],
   "source": [
    "plt.plot(x,y)\n",
    "plt.grid()"
   ]
  },
  {
   "cell_type": "code",
   "execution_count": 10,
   "id": "6a187fe6",
   "metadata": {},
   "outputs": [],
   "source": [
    "i=0\n",
    "while y[i]>y[i+1]:\n",
    "    i=i+1"
   ]
  },
  {
   "cell_type": "code",
   "execution_count": 11,
   "id": "87664c02",
   "metadata": {},
   "outputs": [
    {
     "name": "stdout",
     "output_type": "stream",
     "text": [
      "-4.999999999999787\n"
     ]
    }
   ],
   "source": [
    "print(x[i])"
   ]
  },
  {
   "cell_type": "code",
   "execution_count": 12,
   "id": "a960f4f2",
   "metadata": {},
   "outputs": [
    {
     "name": "stdout",
     "output_type": "stream",
     "text": [
      "-72.0\n"
     ]
    }
   ],
   "source": [
    "print(y[i])"
   ]
  },
  {
   "cell_type": "markdown",
   "id": "116fa8da",
   "metadata": {},
   "source": [
    "# Optimization with SciPy"
   ]
  },
  {
   "cell_type": "markdown",
   "id": "cfd59dc1",
   "metadata": {},
   "source": [
    "Scipy is a free and open-source Python library used for scientific computing and engineering. It contains modules for optimization, linear algebra, interpolation, image processing, ODE solvers etc."
   ]
  },
  {
   "cell_type": "markdown",
   "id": "739755ed",
   "metadata": {},
   "source": [
    " Differential Equation Solver\n"
   ]
  },
  {
   "cell_type": "markdown",
   "id": "87896d5f",
   "metadata": {},
   "source": [
    "SciPy provides functions for minimizing or maximizing objective functions."
   ]
  },
  {
   "cell_type": "markdown",
   "id": "8b972079",
   "metadata": {},
   "source": [
    "Functions- fminbound(), fmin(), minimize_scalar(), minimize()"
   ]
  },
  {
   "cell_type": "code",
   "execution_count": 25,
   "id": "6cd3881a",
   "metadata": {},
   "outputs": [],
   "source": [
    "import numpy as np\n",
    "import matplotlib.pyplot as plt\n",
    "from scipy import optimize\n",
    "from scipy.optimize import minimize"
   ]
  },
  {
   "cell_type": "code",
   "execution_count": 29,
   "id": "15d922b1",
   "metadata": {},
   "outputs": [],
   "source": [
    "def func(x):\n",
    "    y=x**2\n",
    "    return y"
   ]
  },
  {
   "cell_type": "code",
   "execution_count": 30,
   "id": "8d082aca",
   "metadata": {},
   "outputs": [],
   "source": [
    "xmin=-20\n",
    "xmax=20\n",
    "dx=0.1\n",
    "N=int((xmax-xmin)/dx)\n",
    "x=np.linspace(xmin,xmax,N+1)"
   ]
  },
  {
   "cell_type": "code",
   "execution_count": 31,
   "id": "18c3b7ed",
   "metadata": {},
   "outputs": [],
   "source": [
    "y=func(x)"
   ]
  },
  {
   "cell_type": "code",
   "execution_count": 32,
   "id": "eb83ffb8",
   "metadata": {},
   "outputs": [
    {
     "data": {
      "text/plain": [
       "(-20.0, 20.0)"
      ]
     },
     "execution_count": 32,
     "metadata": {},
     "output_type": "execute_result"
    },
    {
     "data": {
      "image/png": "[encoded data removed]",
      "text/plain": [
       "<Figure size 432x288 with 1 Axes>"
      ]
     },
     "metadata": {
      "needs_background": "light"
     },
     "output_type": "display_data"
    }
   ],
   "source": [
    "plt.plot(x,y)\n",
    "plt.grid()\n",
    "plt.xlim([xmin,xmax])"
   ]
  },
  {
   "cell_type": "code",
   "execution_count": 33,
   "id": "46defd29",
   "metadata": {},
   "outputs": [],
   "source": [
    "x_min=optimize.fminbound(func,xmin,xmax)\n",
    "y_min=func(x_min)"
   ]
  },
  {
   "cell_type": "code",
   "execution_count": 34,
   "id": "97f5c79c",
   "metadata": {},
   "outputs": [
    {
     "name": "stdout",
     "output_type": "stream",
     "text": [
      "0.0\n",
      "0.0\n"
     ]
    }
   ],
   "source": [
    "print(x_min)\n",
    "print(y_min)"
   ]
  },
  {
   "cell_type": "markdown",
   "id": "35aff2d4",
   "metadata": {},
   "source": [
    "#Rosenbrock's Banana Function- f(x,y)=(a-x)**2+b(y-x**2)**2. This function is used to verify performance and robustness of optimization algorithms since it is demanding to find minimium for this function. It consist of two or more variables"
   ]
  },
  {
   "cell_type": "code",
   "execution_count": null,
   "id": "377f0594",
   "metadata": {},
   "outputs": [],
   "source": []
  }
 ],
 "metadata": {
  "kernelspec": {
   "display_name": "Python 3 (ipykernel)",
   "language": "python",
   "name": "python3"
  },
  "language_info": {
   "codemirror_mode": {
    "name": "ipython",
    "version": 3
   },
   "file_extension": ".py",
   "mimetype": "text/x-python",
   "name": "python",
   "nbconvert_exporter": "python",
   "pygments_lexer": "ipython3",
   "version": "3.9.7"
  }
 },
 "nbformat": 4,
 "nbformat_minor": 5
}
