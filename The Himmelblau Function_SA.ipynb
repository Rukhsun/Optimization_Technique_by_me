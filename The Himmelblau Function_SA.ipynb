{
 "cells": [
  {
   "cell_type": "code",
   "execution_count": 1,
   "id": "22c59ad4",
   "metadata": {},
   "outputs": [],
   "source": [
    "import numpy as np\n",
    "import matplotlib.pyplot as plt"
   ]
  },
  {
   "cell_type": "code",
   "execution_count": 2,
   "id": "73d724da",
   "metadata": {},
   "outputs": [
    {
     "data": {
      "text/plain": [
       "{'divide': 'warn', 'over': 'warn', 'under': 'ignore', 'invalid': 'warn'}"
      ]
     },
     "execution_count": 2,
     "metadata": {},
     "output_type": "execute_result"
    }
   ],
   "source": [
    "np.seterr(divide='ignore')#ignore warning of zeros division"
   ]
  },
  {
   "cell_type": "code",
   "execution_count": 3,
   "id": "4007c334",
   "metadata": {},
   "outputs": [],
   "source": [
    "#initial solution that i want to start "
   ]
  },
  {
   "cell_type": "code",
   "execution_count": 4,
   "id": "11080687",
   "metadata": {},
   "outputs": [],
   "source": [
    "x=2\n",
    "y=1"
   ]
  },
  {
   "cell_type": "code",
   "execution_count": 5,
   "id": "3e83a05b",
   "metadata": {},
   "outputs": [],
   "source": [
    "#Objective function"
   ]
  },
  {
   "cell_type": "code",
   "execution_count": 6,
   "id": "8bd2140f",
   "metadata": {},
   "outputs": [],
   "source": [
    "z=((x**2)+y-11)**2+(x+(y**2)-7)**2"
   ]
  },
  {
   "cell_type": "code",
   "execution_count": 7,
   "id": "bf4f4839",
   "metadata": {},
   "outputs": [
    {
     "name": "stdout",
     "output_type": "stream",
     "text": [
      "\n",
      "\n",
      "initial sol of x: 2.000\n",
      "initial sol of y: 1.000\n",
      "initial sol of z: 52.000\n"
     ]
    }
   ],
   "source": [
    "print()\n",
    "print()\n",
    "print('initial sol of x: %0.3f'%x)\n",
    "print('initial sol of y: %0.3f'%y)\n",
    "print('initial sol of z: %0.3f'%z)"
   ]
  },
  {
   "cell_type": "markdown",
   "id": "a4eb9620",
   "metadata": {},
   "source": [
    "Now for simulated annealing and other neighborhood search problems, or Maduka rustics?\n",
    "\n",
    "You always start at one point, one solution.\n",
    "\n",
    "And from that starting point in your search space, you start moving around to your neighborhood solutions,\n",
    "\n",
    "you start looking around for better solutions for worst and so on, like if you go to a worse solution,\n",
    "\n",
    "should we take it or not?\n",
    "Sometimes takes bad solution is good as from there we can get better potential solution"
   ]
  },
  {
   "cell_type": "markdown",
   "id": "dd6908f2",
   "metadata": {},
   "source": [
    "# Hyperparameter"
   ]
  },
  {
   "cell_type": "code",
   "execution_count": 8,
   "id": "04639504",
   "metadata": {},
   "outputs": [],
   "source": [
    "#User inputted parameter\n",
    "T0=1000\n",
    "#For plotting purposes\n",
    "temp_for_plot=T0\n",
    "#How many times we want to decrease temperature\n",
    "M=300\n",
    "#For each M how many times we want to search neighbourhood\n",
    "N=15\n",
    "#by how much do we want to decrease the temp\n",
    "alpha=0.85\n",
    "#helps to reduce stepsize\n",
    "k=1"
   ]
  },
  {
   "cell_type": "code",
   "execution_count": 9,
   "id": "f220e09d",
   "metadata": {},
   "outputs": [],
   "source": [
    "temp=[]#to plot the temperature\n",
    "obj_val=[]#to plot the obj val reached at the end of each M"
   ]
  },
  {
   "cell_type": "code",
   "execution_count": 10,
   "id": "b71c098c",
   "metadata": {},
   "outputs": [
    {
     "name": "stderr",
     "output_type": "stream",
     "text": [
      "C:\\Users\\RUKHSU~1\\AppData\\Local\\Temp/ipykernel_17384/3582585724.py:28: RuntimeWarning: overflow encountered in exp\n",
      "  formula=1/(np.exp((obj_val_possible-obj_val_current)/T0))\n"
     ]
    }
   ],
   "source": [
    "for i in range(M):#how many times to decrease the temp\n",
    "    for j in range(N):#for each M how many neighbourhood searches\n",
    "        #for the decision variables or solutions X\n",
    "        rand_num_x_1=np.random.rand()\n",
    "        rand_num_x_2=np.random.rand()\n",
    "        if rand_num_x_1>=0.5:\n",
    "            step_size_x=k*rand_num_x_1\n",
    "        else:\n",
    "            step_size_x=-k*rand_num_x_2\n",
    "        #for the decision variables y\n",
    "        rand_num_y_1=np.random.rand()\n",
    "        rand_num_y_2=np.random.rand()\n",
    "        if rand_num_y_1>=0.5:\n",
    "            step_size_y=k*rand_num_y_1\n",
    "        else:\n",
    "            step_size_y=-k*rand_num_y_2\n",
    "        #temporary because we still need to know if we should take this new solution or stay where we are and look again\n",
    "        x_temporary=x+step_size_x\n",
    "        y_temporary=y+step_size_y\n",
    "        #the possible new move with the temporary values need to see if better or worse than where we currently are \n",
    "        obj_val_possible=((x_temporary**2)+y_temporary-11)**2+(x_temporary+(y_temporary**2)-7)**2\n",
    "        #where we are currently\n",
    "        obj_val_current=Z=((x**2)+y-11)**2+(x+(y**2)-7)**2\n",
    "        #in case our possible solutions in worse, we need to figure out if we should take it or not\n",
    "        rand_num=np.random.rand()\n",
    "        #if the possible solution is worse, with the help of random number above we will let a formula decide if we take it or stay where we are\n",
    "        #the closer we get to end of our search(the lower temp. value), it will be be less likely to take worse solutions because the random number will most likely be greater\n",
    "        formula=1/(np.exp((obj_val_possible-obj_val_current)/T0))\n",
    "        #can we change our current solution with next potential solution\n",
    "        if obj_val_possible<=obj_val_current:\n",
    "            x=x_temporary\n",
    "            y=y_temporary \n",
    "        elif rand_num<=formula:\n",
    "            x=x_temporary\n",
    "            y=y_temporary\n",
    "        else:\n",
    "            x=x\n",
    "            y=y\n",
    "    temp.append(T0)\n",
    "    obj_val.append(obj_val_current)\n",
    "    T0=alpha*T0"
   ]
  },
  {
   "cell_type": "code",
   "execution_count": 11,
   "id": "3e333761",
   "metadata": {},
   "outputs": [
    {
     "name": "stdout",
     "output_type": "stream",
     "text": [
      "\n",
      "\n",
      "\n",
      "initial sol of x: 2.765\n",
      "initial sol of y: 2.027\n",
      "Objective value is : 1.777\n"
     ]
    }
   ],
   "source": [
    "print()\n",
    "print()\n",
    "print()\n",
    "print('initial sol of x: %0.3f'%x)\n",
    "print('initial sol of y: %0.3f'%y)\n",
    "print('Objective value is : %0.3f'%obj_val_current)"
   ]
  },
  {
   "cell_type": "markdown",
   "id": "c35dfa37",
   "metadata": {},
   "source": [
    "# Plotting"
   ]
  },
  {
   "cell_type": "code",
   "execution_count": 12,
   "id": "1c6f4b55",
   "metadata": {},
   "outputs": [
    {
     "data": {
      "image/png": "[encoded data removed]",
      "text/plain": [
       "<Figure size 432x288 with 1 Axes>"
      ]
     },
     "metadata": {
      "needs_background": "light"
     },
     "output_type": "display_data"
    }
   ],
   "source": [
    "plt.plot(temp,obj_val)\n",
    "plt.title(\"Temp vs objective value\",fontsize=20,fontweight='bold')\n",
    "plt.xlabel(\"Temp\",fontsize=18,fontweight='bold')\n",
    "plt.ylabel(\"Obj\",fontsize=18,fontweight='bold')\n",
    "plt.show()"
   ]
  },
  {
   "cell_type": "code",
   "execution_count": null,
   "id": "004d41aa",
   "metadata": {},
   "outputs": [],
   "source": []
  }
 ],
 "metadata": {
  "kernelspec": {
   "display_name": "Python 3 (ipykernel)",
   "language": "python",
   "name": "python3"
  },
  "language_info": {
   "codemirror_mode": {
    "name": "ipython",
    "version": 3
   },
   "file_extension": ".py",
   "mimetype": "text/x-python",
   "name": "python",
   "nbconvert_exporter": "python",
   "pygments_lexer": "ipython3",
   "version": "3.9.7"
  }
 },
 "nbformat": 4,
 "nbformat_minor": 5
}
